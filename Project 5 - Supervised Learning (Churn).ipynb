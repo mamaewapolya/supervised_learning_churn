{
 "cells": [
  {
   "cell_type": "markdown",
   "metadata": {},
   "source": [
    "# Отток клиентов"
   ]
  },
  {
   "cell_type": "markdown",
   "metadata": {},
   "source": [
    "### Описание проекта и данных\n",
    "Из «Бета-Банка» стали уходить клиенты. Каждый месяц. Немного, но заметно. Банковские маркетологи посчитали: сохранять текущих клиентов дешевле, чем привлекать новых.\n",
    "\n",
    "### Цель проекта\n",
    "Нужно спрогнозировать, уйдёт клиент из банка в ближайшее время или нет. Вам предоставлены исторические данные о поведении клиентов и расторжении договоров с банком.\n",
    "\n",
    "Постройте модель с предельно большим значением F1-меры. Чтобы сдать проект успешно, нужно довести метрику до 0.59. Проверьте F1-меру на тестовой выборке самостоятельно.\n",
    "\n",
    "Дополнительно измеряйте AUC-ROC, сравнивайте её значение с F1-мерой."
   ]
  },
  {
   "cell_type": "markdown",
   "metadata": {},
   "source": [
    "### Описание данных\n",
    "**Признаки**\n",
    "- RowNumber — индекс строки в данных\n",
    "- CustomerId — уникальный идентификатор клиента\n",
    "- Surname — фамилия\n",
    "- CreditScore — кредитный рейтинг\n",
    "- Geography — страна проживания\n",
    "- Gender — пол\n",
    "- Age — возраст\n",
    "- Tenure — сколько лет человек является клиентом банка\n",
    "- Balance — баланс на счёте\n",
    "- NumOfProducts — количество продуктов банка, используемых клиентом\n",
    "- HasCrCard — наличие кредитной карты\n",
    "- IsActiveMember — активность клиента\n",
    "- EstimatedSalary — предполагаемая зарплата\n",
    "\n",
    "**Целевой признак**\n",
    "- Exited — факт ухода клиента"
   ]
  },
  {
   "cell_type": "markdown",
   "metadata": {},
   "source": [
    "### План работы\n",
    "1. Загрузить и подготовить данные.\n",
    "2. Исследовать баланс классов, обучить модель без учёта дисбаланса.\n",
    "3. Улучшить качество модели, учитывая дисбаланс классов. Обучить разные модели и найди лучшую.\n",
    "4. Провести финальное тестирование."
   ]
  },
  {
   "cell_type": "code",
   "execution_count": 1,
   "metadata": {},
   "outputs": [],
   "source": [
    "#!pip install pandas\n",
    "#!pip install matplotlib\n",
    "#!pip install seaborn\n",
    "#!pip install statsmodels\n",
    "#!pip install sklearn\n",
    "#!pip install time"
   ]
  },
  {
   "cell_type": "code",
   "execution_count": 2,
   "metadata": {},
   "outputs": [],
   "source": [
    "import pandas as pd\n",
    "import numpy as np\n",
    "import matplotlib.pyplot as plt\n",
    "import seaborn as sns\n",
    "import statsmodels.api as sm\n",
    "import scipy\n",
    "import math\n",
    "import time\n",
    "from sklearn.linear_model import LogisticRegression\n",
    "from sklearn.tree import DecisionTreeClassifier\n",
    "from sklearn.ensemble import RandomForestClassifier\n",
    "from sklearn.tree import DecisionTreeRegressor\n",
    "from sklearn.ensemble import RandomForestRegressor\n",
    "from sklearn.linear_model import LinearRegression\n",
    "from sklearn.model_selection import train_test_split\n",
    "from sklearn.metrics import plot_confusion_matrix\n",
    "from sklearn.metrics import f1_score\n",
    "from sklearn.metrics import mean_squared_error\n",
    "from sklearn.metrics import mean_absolute_error\n",
    "from sklearn.preprocessing import StandardScaler\n",
    "from sklearn.metrics import accuracy_score\n",
    "from sklearn.metrics import recall_score\n",
    "from sklearn.metrics import precision_score\n",
    "from sklearn.utils import shuffle\n",
    "from sklearn.metrics import precision_recall_curve\n",
    "from sklearn.metrics import roc_curve\n",
    "from sklearn.metrics import roc_auc_score\n",
    "from sklearn.metrics import r2_score"
   ]
  },
  {
   "cell_type": "code",
   "execution_count": 3,
   "metadata": {},
   "outputs": [],
   "source": [
    "pd.set_option('display.max_columns', 50)"
   ]
  },
  {
   "cell_type": "markdown",
   "metadata": {},
   "source": [
    "## Загрузка и изучение даннных"
   ]
  },
  {
   "cell_type": "code",
   "execution_count": 4,
   "metadata": {},
   "outputs": [],
   "source": [
    "df = pd.read_csv('https://code.s3.yandex.net/datasets/Churn.csv')"
   ]
  },
  {
   "cell_type": "code",
   "execution_count": 5,
   "metadata": {},
   "outputs": [
    {
     "data": {
      "text/html": [
       "<div>\n",
       "<style scoped>\n",
       "    .dataframe tbody tr th:only-of-type {\n",
       "        vertical-align: middle;\n",
       "    }\n",
       "\n",
       "    .dataframe tbody tr th {\n",
       "        vertical-align: top;\n",
       "    }\n",
       "\n",
       "    .dataframe thead th {\n",
       "        text-align: right;\n",
       "    }\n",
       "</style>\n",
       "<table border=\"1\" class=\"dataframe\">\n",
       "  <thead>\n",
       "    <tr style=\"text-align: right;\">\n",
       "      <th></th>\n",
       "      <th>RowNumber</th>\n",
       "      <th>CustomerId</th>\n",
       "      <th>Surname</th>\n",
       "      <th>CreditScore</th>\n",
       "      <th>Geography</th>\n",
       "      <th>Gender</th>\n",
       "      <th>Age</th>\n",
       "      <th>Tenure</th>\n",
       "      <th>Balance</th>\n",
       "      <th>NumOfProducts</th>\n",
       "      <th>HasCrCard</th>\n",
       "      <th>IsActiveMember</th>\n",
       "      <th>EstimatedSalary</th>\n",
       "      <th>Exited</th>\n",
       "    </tr>\n",
       "  </thead>\n",
       "  <tbody>\n",
       "    <tr>\n",
       "      <th>0</th>\n",
       "      <td>1</td>\n",
       "      <td>15634602</td>\n",
       "      <td>Hargrave</td>\n",
       "      <td>619</td>\n",
       "      <td>France</td>\n",
       "      <td>Female</td>\n",
       "      <td>42</td>\n",
       "      <td>2.0</td>\n",
       "      <td>0.00</td>\n",
       "      <td>1</td>\n",
       "      <td>1</td>\n",
       "      <td>1</td>\n",
       "      <td>101348.88</td>\n",
       "      <td>1</td>\n",
       "    </tr>\n",
       "    <tr>\n",
       "      <th>1</th>\n",
       "      <td>2</td>\n",
       "      <td>15647311</td>\n",
       "      <td>Hill</td>\n",
       "      <td>608</td>\n",
       "      <td>Spain</td>\n",
       "      <td>Female</td>\n",
       "      <td>41</td>\n",
       "      <td>1.0</td>\n",
       "      <td>83807.86</td>\n",
       "      <td>1</td>\n",
       "      <td>0</td>\n",
       "      <td>1</td>\n",
       "      <td>112542.58</td>\n",
       "      <td>0</td>\n",
       "    </tr>\n",
       "    <tr>\n",
       "      <th>2</th>\n",
       "      <td>3</td>\n",
       "      <td>15619304</td>\n",
       "      <td>Onio</td>\n",
       "      <td>502</td>\n",
       "      <td>France</td>\n",
       "      <td>Female</td>\n",
       "      <td>42</td>\n",
       "      <td>8.0</td>\n",
       "      <td>159660.80</td>\n",
       "      <td>3</td>\n",
       "      <td>1</td>\n",
       "      <td>0</td>\n",
       "      <td>113931.57</td>\n",
       "      <td>1</td>\n",
       "    </tr>\n",
       "    <tr>\n",
       "      <th>3</th>\n",
       "      <td>4</td>\n",
       "      <td>15701354</td>\n",
       "      <td>Boni</td>\n",
       "      <td>699</td>\n",
       "      <td>France</td>\n",
       "      <td>Female</td>\n",
       "      <td>39</td>\n",
       "      <td>1.0</td>\n",
       "      <td>0.00</td>\n",
       "      <td>2</td>\n",
       "      <td>0</td>\n",
       "      <td>0</td>\n",
       "      <td>93826.63</td>\n",
       "      <td>0</td>\n",
       "    </tr>\n",
       "    <tr>\n",
       "      <th>4</th>\n",
       "      <td>5</td>\n",
       "      <td>15737888</td>\n",
       "      <td>Mitchell</td>\n",
       "      <td>850</td>\n",
       "      <td>Spain</td>\n",
       "      <td>Female</td>\n",
       "      <td>43</td>\n",
       "      <td>2.0</td>\n",
       "      <td>125510.82</td>\n",
       "      <td>1</td>\n",
       "      <td>1</td>\n",
       "      <td>1</td>\n",
       "      <td>79084.10</td>\n",
       "      <td>0</td>\n",
       "    </tr>\n",
       "    <tr>\n",
       "      <th>5</th>\n",
       "      <td>6</td>\n",
       "      <td>15574012</td>\n",
       "      <td>Chu</td>\n",
       "      <td>645</td>\n",
       "      <td>Spain</td>\n",
       "      <td>Male</td>\n",
       "      <td>44</td>\n",
       "      <td>8.0</td>\n",
       "      <td>113755.78</td>\n",
       "      <td>2</td>\n",
       "      <td>1</td>\n",
       "      <td>0</td>\n",
       "      <td>149756.71</td>\n",
       "      <td>1</td>\n",
       "    </tr>\n",
       "    <tr>\n",
       "      <th>6</th>\n",
       "      <td>7</td>\n",
       "      <td>15592531</td>\n",
       "      <td>Bartlett</td>\n",
       "      <td>822</td>\n",
       "      <td>France</td>\n",
       "      <td>Male</td>\n",
       "      <td>50</td>\n",
       "      <td>7.0</td>\n",
       "      <td>0.00</td>\n",
       "      <td>2</td>\n",
       "      <td>1</td>\n",
       "      <td>1</td>\n",
       "      <td>10062.80</td>\n",
       "      <td>0</td>\n",
       "    </tr>\n",
       "    <tr>\n",
       "      <th>7</th>\n",
       "      <td>8</td>\n",
       "      <td>15656148</td>\n",
       "      <td>Obinna</td>\n",
       "      <td>376</td>\n",
       "      <td>Germany</td>\n",
       "      <td>Female</td>\n",
       "      <td>29</td>\n",
       "      <td>4.0</td>\n",
       "      <td>115046.74</td>\n",
       "      <td>4</td>\n",
       "      <td>1</td>\n",
       "      <td>0</td>\n",
       "      <td>119346.88</td>\n",
       "      <td>1</td>\n",
       "    </tr>\n",
       "    <tr>\n",
       "      <th>8</th>\n",
       "      <td>9</td>\n",
       "      <td>15792365</td>\n",
       "      <td>He</td>\n",
       "      <td>501</td>\n",
       "      <td>France</td>\n",
       "      <td>Male</td>\n",
       "      <td>44</td>\n",
       "      <td>4.0</td>\n",
       "      <td>142051.07</td>\n",
       "      <td>2</td>\n",
       "      <td>0</td>\n",
       "      <td>1</td>\n",
       "      <td>74940.50</td>\n",
       "      <td>0</td>\n",
       "    </tr>\n",
       "    <tr>\n",
       "      <th>9</th>\n",
       "      <td>10</td>\n",
       "      <td>15592389</td>\n",
       "      <td>H?</td>\n",
       "      <td>684</td>\n",
       "      <td>France</td>\n",
       "      <td>Male</td>\n",
       "      <td>27</td>\n",
       "      <td>2.0</td>\n",
       "      <td>134603.88</td>\n",
       "      <td>1</td>\n",
       "      <td>1</td>\n",
       "      <td>1</td>\n",
       "      <td>71725.73</td>\n",
       "      <td>0</td>\n",
       "    </tr>\n",
       "  </tbody>\n",
       "</table>\n",
       "</div>"
      ],
      "text/plain": [
       "   RowNumber  CustomerId   Surname  CreditScore Geography  Gender  Age  \\\n",
       "0          1    15634602  Hargrave          619    France  Female   42   \n",
       "1          2    15647311      Hill          608     Spain  Female   41   \n",
       "2          3    15619304      Onio          502    France  Female   42   \n",
       "3          4    15701354      Boni          699    France  Female   39   \n",
       "4          5    15737888  Mitchell          850     Spain  Female   43   \n",
       "5          6    15574012       Chu          645     Spain    Male   44   \n",
       "6          7    15592531  Bartlett          822    France    Male   50   \n",
       "7          8    15656148    Obinna          376   Germany  Female   29   \n",
       "8          9    15792365        He          501    France    Male   44   \n",
       "9         10    15592389        H?          684    France    Male   27   \n",
       "\n",
       "   Tenure    Balance  NumOfProducts  HasCrCard  IsActiveMember  \\\n",
       "0     2.0       0.00              1          1               1   \n",
       "1     1.0   83807.86              1          0               1   \n",
       "2     8.0  159660.80              3          1               0   \n",
       "3     1.0       0.00              2          0               0   \n",
       "4     2.0  125510.82              1          1               1   \n",
       "5     8.0  113755.78              2          1               0   \n",
       "6     7.0       0.00              2          1               1   \n",
       "7     4.0  115046.74              4          1               0   \n",
       "8     4.0  142051.07              2          0               1   \n",
       "9     2.0  134603.88              1          1               1   \n",
       "\n",
       "   EstimatedSalary  Exited  \n",
       "0        101348.88       1  \n",
       "1        112542.58       0  \n",
       "2        113931.57       1  \n",
       "3         93826.63       0  \n",
       "4         79084.10       0  \n",
       "5        149756.71       1  \n",
       "6         10062.80       0  \n",
       "7        119346.88       1  \n",
       "8         74940.50       0  \n",
       "9         71725.73       0  "
      ]
     },
     "execution_count": 5,
     "metadata": {},
     "output_type": "execute_result"
    }
   ],
   "source": [
    "df.head(10)"
   ]
  },
  {
   "cell_type": "markdown",
   "metadata": {},
   "source": [
    "Посмотрим на общую информацию, содержащуюся в датасете."
   ]
  },
  {
   "cell_type": "code",
   "execution_count": 6,
   "metadata": {},
   "outputs": [
    {
     "name": "stdout",
     "output_type": "stream",
     "text": [
      "<class 'pandas.core.frame.DataFrame'>\n",
      "RangeIndex: 10000 entries, 0 to 9999\n",
      "Data columns (total 14 columns):\n",
      " #   Column           Non-Null Count  Dtype  \n",
      "---  ------           --------------  -----  \n",
      " 0   RowNumber        10000 non-null  int64  \n",
      " 1   CustomerId       10000 non-null  int64  \n",
      " 2   Surname          10000 non-null  object \n",
      " 3   CreditScore      10000 non-null  int64  \n",
      " 4   Geography        10000 non-null  object \n",
      " 5   Gender           10000 non-null  object \n",
      " 6   Age              10000 non-null  int64  \n",
      " 7   Tenure           9091 non-null   float64\n",
      " 8   Balance          10000 non-null  float64\n",
      " 9   NumOfProducts    10000 non-null  int64  \n",
      " 10  HasCrCard        10000 non-null  int64  \n",
      " 11  IsActiveMember   10000 non-null  int64  \n",
      " 12  EstimatedSalary  10000 non-null  float64\n",
      " 13  Exited           10000 non-null  int64  \n",
      "dtypes: float64(3), int64(8), object(3)\n",
      "memory usage: 1.1+ MB\n"
     ]
    }
   ],
   "source": [
    "df.info()"
   ]
  },
  {
   "cell_type": "code",
   "execution_count": 7,
   "metadata": {},
   "outputs": [
    {
     "data": {
      "text/html": [
       "<div>\n",
       "<style scoped>\n",
       "    .dataframe tbody tr th:only-of-type {\n",
       "        vertical-align: middle;\n",
       "    }\n",
       "\n",
       "    .dataframe tbody tr th {\n",
       "        vertical-align: top;\n",
       "    }\n",
       "\n",
       "    .dataframe thead th {\n",
       "        text-align: right;\n",
       "    }\n",
       "</style>\n",
       "<table border=\"1\" class=\"dataframe\">\n",
       "  <thead>\n",
       "    <tr style=\"text-align: right;\">\n",
       "      <th></th>\n",
       "      <th>RowNumber</th>\n",
       "      <th>CustomerId</th>\n",
       "      <th>CreditScore</th>\n",
       "      <th>Age</th>\n",
       "      <th>Tenure</th>\n",
       "      <th>Balance</th>\n",
       "      <th>NumOfProducts</th>\n",
       "      <th>HasCrCard</th>\n",
       "      <th>IsActiveMember</th>\n",
       "      <th>EstimatedSalary</th>\n",
       "      <th>Exited</th>\n",
       "    </tr>\n",
       "  </thead>\n",
       "  <tbody>\n",
       "    <tr>\n",
       "      <th>count</th>\n",
       "      <td>10000.00000</td>\n",
       "      <td>1.000000e+04</td>\n",
       "      <td>10000.000000</td>\n",
       "      <td>10000.000000</td>\n",
       "      <td>9091.000000</td>\n",
       "      <td>10000.000000</td>\n",
       "      <td>10000.000000</td>\n",
       "      <td>10000.00000</td>\n",
       "      <td>10000.000000</td>\n",
       "      <td>10000.000000</td>\n",
       "      <td>10000.000000</td>\n",
       "    </tr>\n",
       "    <tr>\n",
       "      <th>mean</th>\n",
       "      <td>5000.50000</td>\n",
       "      <td>1.569094e+07</td>\n",
       "      <td>650.528800</td>\n",
       "      <td>38.921800</td>\n",
       "      <td>4.997690</td>\n",
       "      <td>76485.889288</td>\n",
       "      <td>1.530200</td>\n",
       "      <td>0.70550</td>\n",
       "      <td>0.515100</td>\n",
       "      <td>100090.239881</td>\n",
       "      <td>0.203700</td>\n",
       "    </tr>\n",
       "    <tr>\n",
       "      <th>std</th>\n",
       "      <td>2886.89568</td>\n",
       "      <td>7.193619e+04</td>\n",
       "      <td>96.653299</td>\n",
       "      <td>10.487806</td>\n",
       "      <td>2.894723</td>\n",
       "      <td>62397.405202</td>\n",
       "      <td>0.581654</td>\n",
       "      <td>0.45584</td>\n",
       "      <td>0.499797</td>\n",
       "      <td>57510.492818</td>\n",
       "      <td>0.402769</td>\n",
       "    </tr>\n",
       "    <tr>\n",
       "      <th>min</th>\n",
       "      <td>1.00000</td>\n",
       "      <td>1.556570e+07</td>\n",
       "      <td>350.000000</td>\n",
       "      <td>18.000000</td>\n",
       "      <td>0.000000</td>\n",
       "      <td>0.000000</td>\n",
       "      <td>1.000000</td>\n",
       "      <td>0.00000</td>\n",
       "      <td>0.000000</td>\n",
       "      <td>11.580000</td>\n",
       "      <td>0.000000</td>\n",
       "    </tr>\n",
       "    <tr>\n",
       "      <th>25%</th>\n",
       "      <td>2500.75000</td>\n",
       "      <td>1.562853e+07</td>\n",
       "      <td>584.000000</td>\n",
       "      <td>32.000000</td>\n",
       "      <td>2.000000</td>\n",
       "      <td>0.000000</td>\n",
       "      <td>1.000000</td>\n",
       "      <td>0.00000</td>\n",
       "      <td>0.000000</td>\n",
       "      <td>51002.110000</td>\n",
       "      <td>0.000000</td>\n",
       "    </tr>\n",
       "    <tr>\n",
       "      <th>50%</th>\n",
       "      <td>5000.50000</td>\n",
       "      <td>1.569074e+07</td>\n",
       "      <td>652.000000</td>\n",
       "      <td>37.000000</td>\n",
       "      <td>5.000000</td>\n",
       "      <td>97198.540000</td>\n",
       "      <td>1.000000</td>\n",
       "      <td>1.00000</td>\n",
       "      <td>1.000000</td>\n",
       "      <td>100193.915000</td>\n",
       "      <td>0.000000</td>\n",
       "    </tr>\n",
       "    <tr>\n",
       "      <th>75%</th>\n",
       "      <td>7500.25000</td>\n",
       "      <td>1.575323e+07</td>\n",
       "      <td>718.000000</td>\n",
       "      <td>44.000000</td>\n",
       "      <td>7.000000</td>\n",
       "      <td>127644.240000</td>\n",
       "      <td>2.000000</td>\n",
       "      <td>1.00000</td>\n",
       "      <td>1.000000</td>\n",
       "      <td>149388.247500</td>\n",
       "      <td>0.000000</td>\n",
       "    </tr>\n",
       "    <tr>\n",
       "      <th>max</th>\n",
       "      <td>10000.00000</td>\n",
       "      <td>1.581569e+07</td>\n",
       "      <td>850.000000</td>\n",
       "      <td>92.000000</td>\n",
       "      <td>10.000000</td>\n",
       "      <td>250898.090000</td>\n",
       "      <td>4.000000</td>\n",
       "      <td>1.00000</td>\n",
       "      <td>1.000000</td>\n",
       "      <td>199992.480000</td>\n",
       "      <td>1.000000</td>\n",
       "    </tr>\n",
       "  </tbody>\n",
       "</table>\n",
       "</div>"
      ],
      "text/plain": [
       "         RowNumber    CustomerId   CreditScore           Age       Tenure  \\\n",
       "count  10000.00000  1.000000e+04  10000.000000  10000.000000  9091.000000   \n",
       "mean    5000.50000  1.569094e+07    650.528800     38.921800     4.997690   \n",
       "std     2886.89568  7.193619e+04     96.653299     10.487806     2.894723   \n",
       "min        1.00000  1.556570e+07    350.000000     18.000000     0.000000   \n",
       "25%     2500.75000  1.562853e+07    584.000000     32.000000     2.000000   \n",
       "50%     5000.50000  1.569074e+07    652.000000     37.000000     5.000000   \n",
       "75%     7500.25000  1.575323e+07    718.000000     44.000000     7.000000   \n",
       "max    10000.00000  1.581569e+07    850.000000     92.000000    10.000000   \n",
       "\n",
       "             Balance  NumOfProducts    HasCrCard  IsActiveMember  \\\n",
       "count   10000.000000   10000.000000  10000.00000    10000.000000   \n",
       "mean    76485.889288       1.530200      0.70550        0.515100   \n",
       "std     62397.405202       0.581654      0.45584        0.499797   \n",
       "min         0.000000       1.000000      0.00000        0.000000   \n",
       "25%         0.000000       1.000000      0.00000        0.000000   \n",
       "50%     97198.540000       1.000000      1.00000        1.000000   \n",
       "75%    127644.240000       2.000000      1.00000        1.000000   \n",
       "max    250898.090000       4.000000      1.00000        1.000000   \n",
       "\n",
       "       EstimatedSalary        Exited  \n",
       "count     10000.000000  10000.000000  \n",
       "mean     100090.239881      0.203700  \n",
       "std       57510.492818      0.402769  \n",
       "min          11.580000      0.000000  \n",
       "25%       51002.110000      0.000000  \n",
       "50%      100193.915000      0.000000  \n",
       "75%      149388.247500      0.000000  \n",
       "max      199992.480000      1.000000  "
      ]
     },
     "execution_count": 7,
     "metadata": {},
     "output_type": "execute_result"
    }
   ],
   "source": [
    "df.describe()"
   ]
  },
  {
   "cell_type": "markdown",
   "metadata": {},
   "source": [
    "Изучив общую информацию о датасете, можно сделать следующие выводы:\n",
    "- **Gender** нужно перевести в дамми с помощью метода One-Hot Encoding\n",
    "- некоторые признаки нужно масштабировать, чтобы избавиться от влияния выбросов"
   ]
  },
  {
   "cell_type": "code",
   "execution_count": 8,
   "metadata": {},
   "outputs": [
    {
     "data": {
      "text/plain": [
       "<AxesSubplot:>"
      ]
     },
     "execution_count": 8,
     "metadata": {},
     "output_type": "execute_result"
    },
    {
     "data": {
      "image/png": "[encoded data removed]",
      "text/plain": [
       "<Figure size 1500x500 with 2 Axes>"
      ]
     },
     "metadata": {},
     "output_type": "display_data"
    }
   ],
   "source": [
    "#проверим, есть подозрение на мультиколлинеарность между некторыми признаками\n",
    "correlation = df.corr()\n",
    "plt.figure(figsize = (15,5))\n",
    "sns.heatmap(correlation, annot = True)"
   ]
  },
  {
   "cell_type": "markdown",
   "metadata": {},
   "source": [
    "Критично высоких связей между признаками не наблюдается, поэтому можно оставить модель с изначальным набором признаков."
   ]
  },
  {
   "cell_type": "code",
   "execution_count": 9,
   "metadata": {},
   "outputs": [
    {
     "data": {
      "image/png": "[encoded data removed]",
      "text/plain": [
       "<Figure size 1000x1200 with 12 Axes>"
      ]
     },
     "metadata": {},
     "output_type": "display_data"
    }
   ],
   "source": [
    "# построим общую диаграмму для всех столбцов таблицы,\n",
    "# чтобы визуально оценить нормальность распределений\n",
    "df.hist(figsize=(10, 12))\n",
    "None"
   ]
  },
  {
   "cell_type": "markdown",
   "metadata": {},
   "source": [
    "Визуальная оценка позволяет сделать вывод о том, что ни один из признаков не распределен нормально."
   ]
  },
  {
   "cell_type": "code",
   "execution_count": 10,
   "metadata": {},
   "outputs": [
    {
     "data": {
      "text/plain": [
       "RowNumber            0\n",
       "CustomerId           0\n",
       "Surname              0\n",
       "CreditScore          0\n",
       "Geography            0\n",
       "Gender               0\n",
       "Age                  0\n",
       "Tenure             909\n",
       "Balance              0\n",
       "NumOfProducts        0\n",
       "HasCrCard            0\n",
       "IsActiveMember       0\n",
       "EstimatedSalary      0\n",
       "Exited               0\n",
       "dtype: int64"
      ]
     },
     "execution_count": 10,
     "metadata": {},
     "output_type": "execute_result"
    }
   ],
   "source": [
    "# проверим датасет на наличие пропусков в данных\n",
    "df.isna().sum()"
   ]
  },
  {
   "cell_type": "markdown",
   "metadata": {},
   "source": [
    "В столбце **Tenure** наблюдается 909 прорусков.\\\n",
    "Будем считать, что если это пропуск, значит человек не является клиентом банка. Заполним пропуски нулями."
   ]
  },
  {
   "cell_type": "code",
   "execution_count": 11,
   "metadata": {},
   "outputs": [],
   "source": [
    "df.Tenure = df.Tenure.fillna(0)"
   ]
  },
  {
   "cell_type": "code",
   "execution_count": 12,
   "metadata": {},
   "outputs": [
    {
     "data": {
      "text/plain": [
       "RowNumber          0\n",
       "CustomerId         0\n",
       "Surname            0\n",
       "CreditScore        0\n",
       "Geography          0\n",
       "Gender             0\n",
       "Age                0\n",
       "Tenure             0\n",
       "Balance            0\n",
       "NumOfProducts      0\n",
       "HasCrCard          0\n",
       "IsActiveMember     0\n",
       "EstimatedSalary    0\n",
       "Exited             0\n",
       "dtype: int64"
      ]
     },
     "execution_count": 12,
     "metadata": {},
     "output_type": "execute_result"
    }
   ],
   "source": [
    "# проверим все ли сработало корректно\n",
    "df.isna().sum()"
   ]
  },
  {
   "cell_type": "markdown",
   "metadata": {},
   "source": [
    "## Подготовка данных"
   ]
  },
  {
   "cell_type": "markdown",
   "metadata": {},
   "source": [
    "На основании имеющихсф данных о клиентах нужно спрогнозировать, уйдёт клиент из банка в ближайшее время или нет. \n",
    "\n",
    "Соответственно:\n",
    "- **Exited** - это целевой признак\n",
    "- все остальные столбцы - это признаки, которые влияют на результат классификации"
   ]
  },
  {
   "cell_type": "markdown",
   "metadata": {},
   "source": [
    "Посмотрев на основную информацию о признаках, можно сказать, что One-Hot Encoding и масштабирование нужно применить точечно.\n",
    "\n",
    "Дополнительно проверим уникальные значения для категориальных признаков, чтобы убедиться в том, что OHE к ним применять имеет смысл."
   ]
  },
  {
   "cell_type": "code",
   "execution_count": 13,
   "metadata": {},
   "outputs": [
    {
     "data": {
      "text/plain": [
       "array(['Female', 'Male'], dtype=object)"
      ]
     },
     "execution_count": 13,
     "metadata": {},
     "output_type": "execute_result"
    }
   ],
   "source": [
    "df.Gender.unique()"
   ]
  },
  {
   "cell_type": "code",
   "execution_count": 14,
   "metadata": {},
   "outputs": [
    {
     "data": {
      "text/plain": [
       "array(['France', 'Spain', 'Germany'], dtype=object)"
      ]
     },
     "execution_count": 14,
     "metadata": {},
     "output_type": "execute_result"
    }
   ],
   "source": [
    "df.Geography.unique()"
   ]
  },
  {
   "cell_type": "markdown",
   "metadata": {},
   "source": [
    "OHE применим к столбцам **Gender** и **Geography**, масштабирование - к **CreditScore**, **Balance** и **EstimatedSalary**, так как мы не хотим, чтобы при обучении какой-то признак с более высоким значением был засчитан как более значимый."
   ]
  },
  {
   "cell_type": "code",
   "execution_count": 15,
   "metadata": {},
   "outputs": [],
   "source": [
    "# применяем ohe к 2 признакам\n",
    "df = pd.get_dummies(df, drop_first=True, columns=['Gender', 'Geography'])"
   ]
  },
  {
   "cell_type": "code",
   "execution_count": 16,
   "metadata": {},
   "outputs": [
    {
     "data": {
      "text/html": [
       "<div>\n",
       "<style scoped>\n",
       "    .dataframe tbody tr th:only-of-type {\n",
       "        vertical-align: middle;\n",
       "    }\n",
       "\n",
       "    .dataframe tbody tr th {\n",
       "        vertical-align: top;\n",
       "    }\n",
       "\n",
       "    .dataframe thead th {\n",
       "        text-align: right;\n",
       "    }\n",
       "</style>\n",
       "<table border=\"1\" class=\"dataframe\">\n",
       "  <thead>\n",
       "    <tr style=\"text-align: right;\">\n",
       "      <th></th>\n",
       "      <th>RowNumber</th>\n",
       "      <th>CustomerId</th>\n",
       "      <th>Surname</th>\n",
       "      <th>CreditScore</th>\n",
       "      <th>Age</th>\n",
       "      <th>Tenure</th>\n",
       "      <th>Balance</th>\n",
       "      <th>NumOfProducts</th>\n",
       "      <th>HasCrCard</th>\n",
       "      <th>IsActiveMember</th>\n",
       "      <th>EstimatedSalary</th>\n",
       "      <th>Exited</th>\n",
       "      <th>Gender_Male</th>\n",
       "      <th>Geography_Germany</th>\n",
       "      <th>Geography_Spain</th>\n",
       "    </tr>\n",
       "  </thead>\n",
       "  <tbody>\n",
       "    <tr>\n",
       "      <th>0</th>\n",
       "      <td>1</td>\n",
       "      <td>15634602</td>\n",
       "      <td>Hargrave</td>\n",
       "      <td>619</td>\n",
       "      <td>42</td>\n",
       "      <td>2.0</td>\n",
       "      <td>0.00</td>\n",
       "      <td>1</td>\n",
       "      <td>1</td>\n",
       "      <td>1</td>\n",
       "      <td>101348.88</td>\n",
       "      <td>1</td>\n",
       "      <td>0</td>\n",
       "      <td>0</td>\n",
       "      <td>0</td>\n",
       "    </tr>\n",
       "    <tr>\n",
       "      <th>1</th>\n",
       "      <td>2</td>\n",
       "      <td>15647311</td>\n",
       "      <td>Hill</td>\n",
       "      <td>608</td>\n",
       "      <td>41</td>\n",
       "      <td>1.0</td>\n",
       "      <td>83807.86</td>\n",
       "      <td>1</td>\n",
       "      <td>0</td>\n",
       "      <td>1</td>\n",
       "      <td>112542.58</td>\n",
       "      <td>0</td>\n",
       "      <td>0</td>\n",
       "      <td>0</td>\n",
       "      <td>1</td>\n",
       "    </tr>\n",
       "    <tr>\n",
       "      <th>2</th>\n",
       "      <td>3</td>\n",
       "      <td>15619304</td>\n",
       "      <td>Onio</td>\n",
       "      <td>502</td>\n",
       "      <td>42</td>\n",
       "      <td>8.0</td>\n",
       "      <td>159660.80</td>\n",
       "      <td>3</td>\n",
       "      <td>1</td>\n",
       "      <td>0</td>\n",
       "      <td>113931.57</td>\n",
       "      <td>1</td>\n",
       "      <td>0</td>\n",
       "      <td>0</td>\n",
       "      <td>0</td>\n",
       "    </tr>\n",
       "    <tr>\n",
       "      <th>3</th>\n",
       "      <td>4</td>\n",
       "      <td>15701354</td>\n",
       "      <td>Boni</td>\n",
       "      <td>699</td>\n",
       "      <td>39</td>\n",
       "      <td>1.0</td>\n",
       "      <td>0.00</td>\n",
       "      <td>2</td>\n",
       "      <td>0</td>\n",
       "      <td>0</td>\n",
       "      <td>93826.63</td>\n",
       "      <td>0</td>\n",
       "      <td>0</td>\n",
       "      <td>0</td>\n",
       "      <td>0</td>\n",
       "    </tr>\n",
       "    <tr>\n",
       "      <th>4</th>\n",
       "      <td>5</td>\n",
       "      <td>15737888</td>\n",
       "      <td>Mitchell</td>\n",
       "      <td>850</td>\n",
       "      <td>43</td>\n",
       "      <td>2.0</td>\n",
       "      <td>125510.82</td>\n",
       "      <td>1</td>\n",
       "      <td>1</td>\n",
       "      <td>1</td>\n",
       "      <td>79084.10</td>\n",
       "      <td>0</td>\n",
       "      <td>0</td>\n",
       "      <td>0</td>\n",
       "      <td>1</td>\n",
       "    </tr>\n",
       "  </tbody>\n",
       "</table>\n",
       "</div>"
      ],
      "text/plain": [
       "   RowNumber  CustomerId   Surname  CreditScore  Age  Tenure    Balance  \\\n",
       "0          1    15634602  Hargrave          619   42     2.0       0.00   \n",
       "1          2    15647311      Hill          608   41     1.0   83807.86   \n",
       "2          3    15619304      Onio          502   42     8.0  159660.80   \n",
       "3          4    15701354      Boni          699   39     1.0       0.00   \n",
       "4          5    15737888  Mitchell          850   43     2.0  125510.82   \n",
       "\n",
       "   NumOfProducts  HasCrCard  IsActiveMember  EstimatedSalary  Exited  \\\n",
       "0              1          1               1        101348.88       1   \n",
       "1              1          0               1        112542.58       0   \n",
       "2              3          1               0        113931.57       1   \n",
       "3              2          0               0         93826.63       0   \n",
       "4              1          1               1         79084.10       0   \n",
       "\n",
       "   Gender_Male  Geography_Germany  Geography_Spain  \n",
       "0            0                  0                0  \n",
       "1            0                  0                1  \n",
       "2            0                  0                0  \n",
       "3            0                  0                0  \n",
       "4            0                  0                1  "
      ]
     },
     "execution_count": 16,
     "metadata": {},
     "output_type": "execute_result"
    }
   ],
   "source": [
    "# приверим, что получилось\n",
    "df.head()"
   ]
  },
  {
   "cell_type": "markdown",
   "metadata": {},
   "source": [
    "Дальше разделим датасет на 3 выборки - обучающую, валидационную и тестовую.\\\n",
    "Кроме того, удалим признаки Surmane и CustomerId, так как они никак не влияют на качество обучения (а если и влияют, то только в негативном ключе)."
   ]
  },
  {
   "cell_type": "code",
   "execution_count": 17,
   "metadata": {},
   "outputs": [],
   "source": [
    "target = df['Exited']\n",
    "features = df.drop(['Exited', 'Surname', 'CustomerId', 'RowNumber'], axis=1)\n",
    "\n",
    "# разделяем на обучающую и тестовую выборки (80/20)\n",
    "features_train, features_test, target_train, target_test = train_test_split(features, \n",
    "                                                                            target, \n",
    "                                                                            test_size=0.2, \n",
    "                                                                            random_state=12345)\n",
    "\n",
    "# разделяем обучающую выборку на обучающую и валидационную (75/25)\n",
    "features_train, features_valid, target_train, target_valid = train_test_split(features_train, \n",
    "                                                                              target_train, \n",
    "                                                                              test_size=0.25, \n",
    "                                                                              random_state=12345)"
   ]
  },
  {
   "cell_type": "code",
   "execution_count": 18,
   "metadata": {},
   "outputs": [],
   "source": [
    "# признаки, которые будем масштабировать\n",
    "cols_to_scale = ['CreditScore', 'Balance', 'EstimatedSalary']\n",
    "\n",
    "scaler = StandardScaler()\n",
    "scaler.fit(df[cols_to_scale])\n",
    "\n",
    "df[cols_to_scale] = scaler.transform(df[cols_to_scale])\n",
    "\n",
    "#pd.options.mode.chained_assignment = None"
   ]
  },
  {
   "cell_type": "code",
   "execution_count": 19,
   "metadata": {},
   "outputs": [
    {
     "data": {
      "text/html": [
       "<div>\n",
       "<style scoped>\n",
       "    .dataframe tbody tr th:only-of-type {\n",
       "        vertical-align: middle;\n",
       "    }\n",
       "\n",
       "    .dataframe tbody tr th {\n",
       "        vertical-align: top;\n",
       "    }\n",
       "\n",
       "    .dataframe thead th {\n",
       "        text-align: right;\n",
       "    }\n",
       "</style>\n",
       "<table border=\"1\" class=\"dataframe\">\n",
       "  <thead>\n",
       "    <tr style=\"text-align: right;\">\n",
       "      <th></th>\n",
       "      <th>RowNumber</th>\n",
       "      <th>CustomerId</th>\n",
       "      <th>Surname</th>\n",
       "      <th>CreditScore</th>\n",
       "      <th>Age</th>\n",
       "      <th>Tenure</th>\n",
       "      <th>Balance</th>\n",
       "      <th>NumOfProducts</th>\n",
       "      <th>HasCrCard</th>\n",
       "      <th>IsActiveMember</th>\n",
       "      <th>EstimatedSalary</th>\n",
       "      <th>Exited</th>\n",
       "      <th>Gender_Male</th>\n",
       "      <th>Geography_Germany</th>\n",
       "      <th>Geography_Spain</th>\n",
       "    </tr>\n",
       "  </thead>\n",
       "  <tbody>\n",
       "    <tr>\n",
       "      <th>0</th>\n",
       "      <td>1</td>\n",
       "      <td>15634602</td>\n",
       "      <td>Hargrave</td>\n",
       "      <td>-0.326221</td>\n",
       "      <td>42</td>\n",
       "      <td>2.0</td>\n",
       "      <td>-1.225848</td>\n",
       "      <td>1</td>\n",
       "      <td>1</td>\n",
       "      <td>1</td>\n",
       "      <td>0.021886</td>\n",
       "      <td>1</td>\n",
       "      <td>0</td>\n",
       "      <td>0</td>\n",
       "      <td>0</td>\n",
       "    </tr>\n",
       "    <tr>\n",
       "      <th>1</th>\n",
       "      <td>2</td>\n",
       "      <td>15647311</td>\n",
       "      <td>Hill</td>\n",
       "      <td>-0.440036</td>\n",
       "      <td>41</td>\n",
       "      <td>1.0</td>\n",
       "      <td>0.117350</td>\n",
       "      <td>1</td>\n",
       "      <td>0</td>\n",
       "      <td>1</td>\n",
       "      <td>0.216534</td>\n",
       "      <td>0</td>\n",
       "      <td>0</td>\n",
       "      <td>0</td>\n",
       "      <td>1</td>\n",
       "    </tr>\n",
       "    <tr>\n",
       "      <th>2</th>\n",
       "      <td>3</td>\n",
       "      <td>15619304</td>\n",
       "      <td>Onio</td>\n",
       "      <td>-1.536794</td>\n",
       "      <td>42</td>\n",
       "      <td>8.0</td>\n",
       "      <td>1.333053</td>\n",
       "      <td>3</td>\n",
       "      <td>1</td>\n",
       "      <td>0</td>\n",
       "      <td>0.240687</td>\n",
       "      <td>1</td>\n",
       "      <td>0</td>\n",
       "      <td>0</td>\n",
       "      <td>0</td>\n",
       "    </tr>\n",
       "    <tr>\n",
       "      <th>3</th>\n",
       "      <td>4</td>\n",
       "      <td>15701354</td>\n",
       "      <td>Boni</td>\n",
       "      <td>0.501521</td>\n",
       "      <td>39</td>\n",
       "      <td>1.0</td>\n",
       "      <td>-1.225848</td>\n",
       "      <td>2</td>\n",
       "      <td>0</td>\n",
       "      <td>0</td>\n",
       "      <td>-0.108918</td>\n",
       "      <td>0</td>\n",
       "      <td>0</td>\n",
       "      <td>0</td>\n",
       "      <td>0</td>\n",
       "    </tr>\n",
       "    <tr>\n",
       "      <th>4</th>\n",
       "      <td>5</td>\n",
       "      <td>15737888</td>\n",
       "      <td>Mitchell</td>\n",
       "      <td>2.063884</td>\n",
       "      <td>43</td>\n",
       "      <td>2.0</td>\n",
       "      <td>0.785728</td>\n",
       "      <td>1</td>\n",
       "      <td>1</td>\n",
       "      <td>1</td>\n",
       "      <td>-0.365276</td>\n",
       "      <td>0</td>\n",
       "      <td>0</td>\n",
       "      <td>0</td>\n",
       "      <td>1</td>\n",
       "    </tr>\n",
       "  </tbody>\n",
       "</table>\n",
       "</div>"
      ],
      "text/plain": [
       "   RowNumber  CustomerId   Surname  CreditScore  Age  Tenure   Balance  \\\n",
       "0          1    15634602  Hargrave    -0.326221   42     2.0 -1.225848   \n",
       "1          2    15647311      Hill    -0.440036   41     1.0  0.117350   \n",
       "2          3    15619304      Onio    -1.536794   42     8.0  1.333053   \n",
       "3          4    15701354      Boni     0.501521   39     1.0 -1.225848   \n",
       "4          5    15737888  Mitchell     2.063884   43     2.0  0.785728   \n",
       "\n",
       "   NumOfProducts  HasCrCard  IsActiveMember  EstimatedSalary  Exited  \\\n",
       "0              1          1               1         0.021886       1   \n",
       "1              1          0               1         0.216534       0   \n",
       "2              3          1               0         0.240687       1   \n",
       "3              2          0               0        -0.108918       0   \n",
       "4              1          1               1        -0.365276       0   \n",
       "\n",
       "   Gender_Male  Geography_Germany  Geography_Spain  \n",
       "0            0                  0                0  \n",
       "1            0                  0                1  \n",
       "2            0                  0                0  \n",
       "3            0                  0                0  \n",
       "4            0                  0                1  "
      ]
     },
     "execution_count": 19,
     "metadata": {},
     "output_type": "execute_result"
    }
   ],
   "source": [
    "# приверим, что получилось\n",
    "df.head()"
   ]
  },
  {
   "cell_type": "markdown",
   "metadata": {},
   "source": [
    "Проверим, сколько данных в получившихся выборках и сколько это число составляет в % от изначального датасета."
   ]
  },
  {
   "cell_type": "code",
   "execution_count": 20,
   "metadata": {},
   "outputs": [
    {
     "data": {
      "text/plain": [
       "(6000,)"
      ]
     },
     "execution_count": 20,
     "metadata": {},
     "output_type": "execute_result"
    }
   ],
   "source": [
    "target_train.shape"
   ]
  },
  {
   "cell_type": "code",
   "execution_count": 21,
   "metadata": {},
   "outputs": [
    {
     "data": {
      "text/plain": [
       "0.6"
      ]
     },
     "execution_count": 21,
     "metadata": {},
     "output_type": "execute_result"
    }
   ],
   "source": [
    "round(len(target_train) / len(df), 3)"
   ]
  },
  {
   "cell_type": "code",
   "execution_count": 22,
   "metadata": {},
   "outputs": [
    {
     "data": {
      "text/plain": [
       "(2000,)"
      ]
     },
     "execution_count": 22,
     "metadata": {},
     "output_type": "execute_result"
    }
   ],
   "source": [
    "target_test.shape"
   ]
  },
  {
   "cell_type": "code",
   "execution_count": 23,
   "metadata": {},
   "outputs": [
    {
     "data": {
      "text/plain": [
       "0.2"
      ]
     },
     "execution_count": 23,
     "metadata": {},
     "output_type": "execute_result"
    }
   ],
   "source": [
    "round(len(target_test) / len(df), 3)"
   ]
  },
  {
   "cell_type": "code",
   "execution_count": 24,
   "metadata": {},
   "outputs": [
    {
     "data": {
      "text/plain": [
       "(2000,)"
      ]
     },
     "execution_count": 24,
     "metadata": {},
     "output_type": "execute_result"
    }
   ],
   "source": [
    "target_valid.shape"
   ]
  },
  {
   "cell_type": "code",
   "execution_count": 25,
   "metadata": {},
   "outputs": [
    {
     "data": {
      "text/plain": [
       "0.2"
      ]
     },
     "execution_count": 25,
     "metadata": {},
     "output_type": "execute_result"
    }
   ],
   "source": [
    "round(len(target_valid) / len(df), 3)"
   ]
  },
  {
   "cell_type": "markdown",
   "metadata": {},
   "source": [
    "Судя по полученным цифрам, данные разделены на 3 выборки в верном соотношении."
   ]
  },
  {
   "cell_type": "markdown",
   "metadata": {},
   "source": [
    "## Проверка на наличие дисбаланса"
   ]
  },
  {
   "cell_type": "markdown",
   "metadata": {},
   "source": [
    "Чтобы оценить адекватность модели, проверим, как часто в целевом признаке встречается класс «1» или «0»."
   ]
  },
  {
   "cell_type": "code",
   "execution_count": 26,
   "metadata": {},
   "outputs": [
    {
     "name": "stdout",
     "output_type": "stream",
     "text": [
      "0    0.7963\n",
      "1    0.2037\n",
      "Name: Exited, dtype: float64\n"
     ]
    },
    {
     "data": {
      "text/plain": [
       "<AxesSubplot:>"
      ]
     },
     "execution_count": 26,
     "metadata": {},
     "output_type": "execute_result"
    },
    {
     "data": {
      "image/png": "[encoded data removed]",
      "text/plain": [
       "<Figure size 640x480 with 1 Axes>"
      ]
     },
     "metadata": {},
     "output_type": "display_data"
    }
   ],
   "source": [
    "class_frequency = df['Exited'].value_counts(normalize=1)\n",
    "print(class_frequency)\n",
    "class_frequency.plot(kind='bar')"
   ]
  },
  {
   "cell_type": "markdown",
   "metadata": {},
   "source": [
    "Из полученных данных видно, что в целевом признаке наблюдается достаточно сильный дисбаланс классов - только 20% отражают факт ухода клиента.\n",
    "\n",
    "Кроме того, сравним качество предсказаний с константной моделью. За константу примем пример 0, так как это значение встречается почти в 80% случаев."
   ]
  },
  {
   "cell_type": "code",
   "execution_count": 27,
   "metadata": {},
   "outputs": [
    {
     "name": "stdout",
     "output_type": "stream",
     "text": [
      "0.7963\n"
     ]
    }
   ],
   "source": [
    "target_pred_constant = pd.Series([0]*len(target))\n",
    "print(accuracy_score(target, target_pred_constant))"
   ]
  },
  {
   "cell_type": "markdown",
   "metadata": {},
   "source": [
    "## Проверка моделей без учета дисбаланса"
   ]
  },
  {
   "cell_type": "markdown",
   "metadata": {},
   "source": [
    "Теперь обучим несколько моделей без учета дисбаланса, и посмотрим на ключевые метрики - Recall, Precision и F1-score.\\\n",
    "Перед этим подберем оптимальные гиперпараметры для моделей на основании метрики F1-score.\\\n",
    "Конечно, можно было бы использовать accuracy как milestone, но для этого проекта выберем компромиссный вариант между precision и recall.\n",
    "\n",
    "\n",
    "**Дерево решений**"
   ]
  },
  {
   "cell_type": "code",
   "execution_count": 28,
   "metadata": {},
   "outputs": [
    {
     "name": "stdout",
     "output_type": "stream",
     "text": [
      "Оптимальная глубина дерева = 7\n",
      "Качество модели -  0.5321375186846039\n",
      "Время выполнения кода =  0.0 сек.\n"
     ]
    }
   ],
   "source": [
    "# дерево решений - подберем лучшие гиперпараметры\n",
    "best_model = None\n",
    "best_f1 = 0\n",
    "for depth in range(1, 10):\n",
    "    model_tree = DecisionTreeClassifier(random_state=12345,\n",
    "                                        max_depth=depth)\n",
    "    model_tree.fit(features_train, target_train)\n",
    "    predictions_valid_tree = model_tree.predict(features_valid)\n",
    "    f1_tree = f1_score(target_valid, predictions_valid_tree)\n",
    "    if f1_tree > best_f1:\n",
    "        best_model = model_tree\n",
    "        best_depth = depth\n",
    "        best_f1 = f1_tree\n",
    "\n",
    "print('Оптимальная глубина дерева =', best_depth) \n",
    "print('Качество модели - ', f1_tree)\n",
    "\n",
    "start_time = time.time()\n",
    "print('Время выполнения кода = ', (time.time() - start_time), 'сек.')"
   ]
  },
  {
   "cell_type": "code",
   "execution_count": 29,
   "metadata": {},
   "outputs": [],
   "source": [
    "# обучаем модель с оптимальными значениями гиперпараметров\n",
    "model_tree = DecisionTreeClassifier(random_state=12345,\n",
    "                                    max_depth=7)\n",
    "model_tree.fit(features_train, target_train)\n",
    "predictions_valid_tree = model_tree.predict(features_valid)"
   ]
  },
  {
   "cell_type": "code",
   "execution_count": 30,
   "metadata": {},
   "outputs": [
    {
     "name": "stdout",
     "output_type": "stream",
     "text": [
      "Accuracy_tree: 0.857\n",
      "Recall_tree: 0.44501278772378516\n",
      "Precision_tree: 0.7160493827160493\n",
      "F1_tree: 0.5488958990536277\n"
     ]
    }
   ],
   "source": [
    "print(\"Accuracy_tree:\", accuracy_score(target_valid, predictions_valid_tree))\n",
    "print(\"Recall_tree:\", recall_score(target_valid, predictions_valid_tree))\n",
    "print(\"Precision_tree:\", precision_score(target_valid, predictions_valid_tree))\n",
    "print(\"F1_tree:\", f1_score(target_valid, predictions_valid_tree))"
   ]
  },
  {
   "cell_type": "markdown",
   "metadata": {},
   "source": [
    " \n",
    "**Случайный лес**"
   ]
  },
  {
   "cell_type": "code",
   "execution_count": 31,
   "metadata": {},
   "outputs": [
    {
     "name": "stdout",
     "output_type": "stream",
     "text": [
      "Оптимальная глубина дерева = 7\n",
      "Качество модели -  0.5439469320066335\n",
      "Время выполнения кода =  0.0 сек.\n"
     ]
    }
   ],
   "source": [
    "# случайный лес - подберем лучшие гиперпараметры\n",
    "best_model = None\n",
    "for depth in range(1, 10):\n",
    "        model_forest = RandomForestClassifier(random_state=12345,\n",
    "                                              n_estimators=100, \n",
    "                                              max_depth=depth)\n",
    "        model_forest.fit(features_train, target_train)\n",
    "        predictions_valid_forest = model_forest.predict(features_valid)\n",
    "        f1_forest = f1_score(target_valid, predictions_valid_forest)\n",
    "        if f1_forest > best_f1:\n",
    "            best_model = model_forest\n",
    "            best_depth = depth\n",
    "\n",
    "print('Оптимальная глубина дерева =', best_depth)\n",
    "print('Качество модели - ', f1_forest)\n",
    "\n",
    "start_time = time.time()\n",
    "print('Время выполнения кода = ', (time.time() - start_time), 'сек.')"
   ]
  },
  {
   "cell_type": "code",
   "execution_count": 32,
   "metadata": {},
   "outputs": [],
   "source": [
    "# обучаем модель с оптимальными значениями гиперпараметров\n",
    "\n",
    "model_forest = RandomForestClassifier(random_state=12345, \n",
    "                                      n_estimators=100, \n",
    "                                      max_depth=9)\n",
    "model_forest.fit(features_train, target_train)\n",
    "predictions_valid_forest = model_forest.predict(features_valid)"
   ]
  },
  {
   "cell_type": "code",
   "execution_count": 33,
   "metadata": {},
   "outputs": [
    {
     "name": "stdout",
     "output_type": "stream",
     "text": [
      "Accuracy_forest: 0.8625\n",
      "Recall_forest: 0.4194373401534527\n",
      "Precision_forest: 0.7735849056603774\n",
      "F1_forest: 0.5439469320066335\n"
     ]
    }
   ],
   "source": [
    "print(\"Accuracy_forest:\", accuracy_score(target_valid, predictions_valid_forest))\n",
    "print(\"Recall_forest:\", recall_score(target_valid, predictions_valid_forest))\n",
    "print(\"Precision_forest:\", precision_score(target_valid, predictions_valid_forest))\n",
    "print(\"F1_forest:\", f1_score(target_valid, predictions_valid_forest))"
   ]
  },
  {
   "cell_type": "markdown",
   "metadata": {},
   "source": [
    " \n",
    " **Логистическая регрессия**"
   ]
  },
  {
   "cell_type": "code",
   "execution_count": 34,
   "metadata": {},
   "outputs": [
    {
     "name": "stdout",
     "output_type": "stream",
     "text": [
      "Время выполнения кода =  0.0 сек.\n"
     ]
    }
   ],
   "source": [
    "# логистическая регрессия - подберем лучшие гиперпараметры\n",
    "model_log = LogisticRegression(random_state=12345)\n",
    "# обучаем модель на тренировочной выборке\n",
    "model_log.fit(features_train, target_train)\n",
    "# получаем предсказания на валидационной выборке\n",
    "predictions_valid_log = model_log.predict(features_valid)\n",
    "\n",
    "start_time = time.time()\n",
    "print('Время выполнения кода = ', (time.time() - start_time), 'сек.')"
   ]
  },
  {
   "cell_type": "code",
   "execution_count": 35,
   "metadata": {},
   "outputs": [
    {
     "name": "stdout",
     "output_type": "stream",
     "text": [
      "Accuracy_log: 0.799\n",
      "Recall_log: 0.056265984654731455\n",
      "Precision_log: 0.4\n",
      "F1_log: 0.09865470852017938\n"
     ]
    }
   ],
   "source": [
    "print(\"Accuracy_log:\", accuracy_score(target_valid, predictions_valid_log))\n",
    "print(\"Recall_log:\", recall_score(target_valid, predictions_valid_log))\n",
    "print(\"Precision_log:\", precision_score(target_valid, predictions_valid_log))\n",
    "print(\"F1_log:\", f1_score(target_valid, predictions_valid_log))"
   ]
  },
  {
   "cell_type": "markdown",
   "metadata": {},
   "source": [
    "Оценим модели по качеству - F1-score.\n",
    "\n",
    "**Дерево решений**\n",
    "\n",
    "Качество модели = 0.56\n",
    "\n",
    "**Случайный лес**\n",
    "\n",
    "Качество модели = 0.56\n",
    "\n",
    "**Логистическая регрессия**\n",
    "\n",
    "Качество модели =  0.31\n",
    "\n",
    "\n",
    "Таким образом, обучив модели без учета дисбаланса классов, наилучшее значение метрики F1-score демонстрирует модель Дерево решений, в то время как наибольшее значение метрики accuracy наблюдается у модели Random Forest.\n",
    "\n",
    "Далее, посмотрим на то, как выглядит дисбаланс классов для 3 обученных моделей."
   ]
  },
  {
   "cell_type": "code",
   "execution_count": 36,
   "metadata": {},
   "outputs": [
    {
     "name": "stderr",
     "output_type": "stream",
     "text": [
      "C:\\Users\\MamaevaPolina\\anaconda3\\lib\\site-packages\\sklearn\\utils\\deprecation.py:87: FutureWarning: Function plot_confusion_matrix is deprecated; Function `plot_confusion_matrix` is deprecated in 1.0 and will be removed in 1.2. Use one of the class methods: ConfusionMatrixDisplay.from_predictions or ConfusionMatrixDisplay.from_estimator.\n",
      "  warnings.warn(msg, category=FutureWarning)\n"
     ]
    },
    {
     "data": {
      "image/png": "[encoded data removed]",
      "text/plain": [
       "<Figure size 640x480 with 2 Axes>"
      ]
     },
     "metadata": {},
     "output_type": "display_data"
    }
   ],
   "source": [
    "# построим матрицу ошибок, чтобы посмотреть на соотношения TP, TN, FP и FN\n",
    "plot_confusion_matrix(estimator=model_tree, X=features_valid, y_true=target_valid,\n",
    "                      normalize='true', cmap='Blues')\n",
    "None"
   ]
  },
  {
   "cell_type": "code",
   "execution_count": 37,
   "metadata": {},
   "outputs": [
    {
     "name": "stderr",
     "output_type": "stream",
     "text": [
      "C:\\Users\\MamaevaPolina\\anaconda3\\lib\\site-packages\\sklearn\\utils\\deprecation.py:87: FutureWarning: Function plot_confusion_matrix is deprecated; Function `plot_confusion_matrix` is deprecated in 1.0 and will be removed in 1.2. Use one of the class methods: ConfusionMatrixDisplay.from_predictions or ConfusionMatrixDisplay.from_estimator.\n",
      "  warnings.warn(msg, category=FutureWarning)\n"
     ]
    },
    {
     "data": {
      "image/png": "[encoded data removed]",
      "text/plain": [
       "<Figure size 640x480 with 2 Axes>"
      ]
     },
     "metadata": {},
     "output_type": "display_data"
    }
   ],
   "source": [
    "# построим матрицу ошибок, чтобы посмотреть на соотношения TP, TN, FP и FN \n",
    "plot_confusion_matrix(estimator=model_forest, X=features_valid, y_true=target_valid,\n",
    "                      normalize='true', cmap='Blues')\n",
    "None"
   ]
  },
  {
   "cell_type": "code",
   "execution_count": 38,
   "metadata": {},
   "outputs": [
    {
     "name": "stderr",
     "output_type": "stream",
     "text": [
      "C:\\Users\\MamaevaPolina\\anaconda3\\lib\\site-packages\\sklearn\\utils\\deprecation.py:87: FutureWarning: Function plot_confusion_matrix is deprecated; Function `plot_confusion_matrix` is deprecated in 1.0 and will be removed in 1.2. Use one of the class methods: ConfusionMatrixDisplay.from_predictions or ConfusionMatrixDisplay.from_estimator.\n",
      "  warnings.warn(msg, category=FutureWarning)\n"
     ]
    },
    {
     "data": {
      "image/png": "[encoded data removed]",
      "text/plain": [
       "<Figure size 640x480 with 2 Axes>"
      ]
     },
     "metadata": {},
     "output_type": "display_data"
    }
   ],
   "source": [
    "# построим матрицу ошибок, чтобы посмотреть на соотношения TP, TN, FP и FN \n",
    "plot_confusion_matrix(estimator=model_log, X=features_valid, y_true=target_valid,\n",
    "                      normalize='true', cmap='Blues')\n",
    "None"
   ]
  },
  {
   "cell_type": "markdown",
   "metadata": {},
   "source": [
    "Матрицы ошибок наглядно демонстрируют то, что несмотря на то, что значение accuracy достаточно высокое, для всех трех моделей наблюдается остаточно сильный дисбаланс классов.\\\n",
    "К примеру, для моделей Дерево решений и Случайный лес ситуация схожая - факт того, что клиент не ушел (0), модели определяют правильно примерно в 95% случаев, в то время как результат предсказаний по факту ухода (1) в среднем всего 45%."
   ]
  },
  {
   "cell_type": "markdown",
   "metadata": {},
   "source": [
    "## Борьба с дисбалансом"
   ]
  },
  {
   "cell_type": "markdown",
   "metadata": {},
   "source": [
    "Рассмотрим 2 метода борьбы с дисбалансом классов:\n",
    "1. Увеличение выборки (upsampling)\n",
    "2. Уменьшение выборки (downsampling)"
   ]
  },
  {
   "cell_type": "markdown",
   "metadata": {},
   "source": [
    "**1. Уменьшение выборки**"
   ]
  },
  {
   "cell_type": "code",
   "execution_count": 39,
   "metadata": {},
   "outputs": [
    {
     "name": "stdout",
     "output_type": "stream",
     "text": [
      "(2414, 11)\n",
      "(2414,)\n"
     ]
    }
   ],
   "source": [
    "# уменьшим выборку в 4 раза, так как положительный класс больше отрицательного в 4 раза\n",
    "def downsample(features, target, fraction):\n",
    "    features_zeros = features[target == 0]\n",
    "    features_ones = features[target == 1]\n",
    "    target_zeros = target[target == 0]\n",
    "    target_ones = target[target == 1]\n",
    "\n",
    "    # fractioning samples\n",
    "    features_downsampled = pd.concat([features_zeros.sample(frac=fraction, random_state=12345)] +\n",
    "                                     [features_ones])\n",
    "    target_downsampled = pd.concat([target_zeros.sample(frac=fraction, random_state=12345)] +\n",
    "                                   [target_ones])\n",
    "    \n",
    "    features_downsampled = shuffle(features_downsampled, random_state=12345)\n",
    "    target_downsampled = shuffle(target_downsampled, random_state=12345)\n",
    "\n",
    "    return features_downsampled, target_downsampled\n",
    "\n",
    "features_downsampled, target_downsampled = downsample(features_train, target_train, 0.25)\n",
    "\n",
    "print(features_downsampled.shape)\n",
    "print(target_downsampled.shape)"
   ]
  },
  {
   "cell_type": "markdown",
   "metadata": {},
   "source": [
    "**Дерево решений**"
   ]
  },
  {
   "cell_type": "code",
   "execution_count": 40,
   "metadata": {},
   "outputs": [
    {
     "name": "stdout",
     "output_type": "stream",
     "text": [
      "Оптимальная глубина дерева = 7\n",
      "Качество модели -  0.5014031805425632\n"
     ]
    }
   ],
   "source": [
    "# дерево решений - подберем лучшие гиперпараметры\n",
    "best_model = None\n",
    "best_f1 = 0\n",
    "for depth in range(1, 10):\n",
    "    model_tree = DecisionTreeClassifier(random_state=12345,\n",
    "                                        max_depth=depth)\n",
    "    model_tree.fit(features_downsampled, target_downsampled)\n",
    "    predictions_valid_tree = model_tree.predict(features_valid)\n",
    "    f1_tree = f1_score(target_valid, predictions_valid_tree)\n",
    "    if f1_tree > best_f1:\n",
    "        best_model = model_tree\n",
    "        best_depth = depth\n",
    "        best_f1 = f1_tree\n",
    "\n",
    "print('Оптимальная глубина дерева =', best_depth) \n",
    "print('Качество модели - ', f1_tree)"
   ]
  },
  {
   "cell_type": "code",
   "execution_count": 41,
   "metadata": {},
   "outputs": [
    {
     "name": "stdout",
     "output_type": "stream",
     "text": [
      "Recall_tree: 0.7519181585677749\n",
      "Precision_tree: 0.4298245614035088\n",
      "F1_tree: 0.5469767441860465\n",
      "ROC-AUC_tree: 0.8160244723176378\n"
     ]
    }
   ],
   "source": [
    "model_tree = DecisionTreeClassifier(random_state=12345,\n",
    "                                    max_depth=7)\n",
    "model_tree.fit(features_downsampled, target_downsampled)\n",
    "predictions_valid_tree = model_tree.predict(features_valid)\n",
    "\n",
    "print(\"Recall_tree:\", recall_score(target_valid, predictions_valid_tree))\n",
    "print(\"Precision_tree:\", precision_score(target_valid, predictions_valid_tree))\n",
    "print(\"F1_tree:\", f1_score(target_valid, predictions_valid_tree))\n",
    "\n",
    "probabilities_valid = model_tree.predict_proba(features_valid)\n",
    "probabilities_one_valid = probabilities_valid[:, 1]\n",
    "print(\"ROC-AUC_tree:\", roc_auc_score(target_valid, probabilities_one_valid))"
   ]
  },
  {
   "cell_type": "markdown",
   "metadata": {},
   "source": [
    "**Случайный лес**"
   ]
  },
  {
   "cell_type": "code",
   "execution_count": 42,
   "metadata": {},
   "outputs": [
    {
     "name": "stdout",
     "output_type": "stream",
     "text": [
      "Оптимальное количество оценок = 100\n",
      "Оптимальная глубина дерева = 9\n"
     ]
    }
   ],
   "source": [
    "# случайный лес - подберем лучшие гиперпараметры\n",
    "best_model = None\n",
    "for est in range(10, 101, 10):\n",
    "    for depth in range(1, 10):\n",
    "        model_forest = RandomForestClassifier(random_state=12345,\n",
    "                                              n_estimators=est, \n",
    "                                              max_depth=depth)\n",
    "        model_forest.fit(features_downsampled, target_downsampled)\n",
    "        predictions_valid_forest = model_forest.predict(features_valid)\n",
    "        f1_forest = f1_score(target_valid, predictions_valid_forest)\n",
    "        if f1_forest > best_f1:\n",
    "            best_model = model_forest\n",
    "            best_est = est\n",
    "            best_depth = depth\n",
    "\n",
    "print('Оптимальное количество оценок =', best_est)\n",
    "print('Оптимальная глубина дерева =', best_depth)"
   ]
  },
  {
   "cell_type": "code",
   "execution_count": 43,
   "metadata": {},
   "outputs": [
    {
     "name": "stdout",
     "output_type": "stream",
     "text": [
      "Recall_forest: 0.7289002557544757\n",
      "Precision_forest: 0.45893719806763283\n",
      "F1_forest: 0.5632411067193676\n",
      "ROC-AUC_forest: 0.8369974519923893\n"
     ]
    }
   ],
   "source": [
    "model_forest = RandomForestClassifier(random_state=12345, \n",
    "                                      n_estimators=10, \n",
    "                                      max_depth=9)\n",
    "model_forest.fit(features_downsampled, target_downsampled)\n",
    "predictions_valid_forest = model_forest.predict(features_valid)\n",
    "\n",
    "print(\"Recall_forest:\", recall_score(target_valid, predictions_valid_forest))\n",
    "print(\"Precision_forest:\", precision_score(target_valid, predictions_valid_forest))\n",
    "print(\"F1_forest:\", f1_score(target_valid, predictions_valid_forest))\n",
    "\n",
    "probabilities_valid = model_forest.predict_proba(features_valid)\n",
    "probabilities_one_valid = probabilities_valid[:, 1]\n",
    "print(\"ROC-AUC_forest:\", roc_auc_score(target_valid, probabilities_one_valid))"
   ]
  },
  {
   "cell_type": "markdown",
   "metadata": {},
   "source": [
    "**Логистическая регрессия**"
   ]
  },
  {
   "cell_type": "code",
   "execution_count": 44,
   "metadata": {},
   "outputs": [
    {
     "name": "stdout",
     "output_type": "stream",
     "text": [
      "Recall_log: 0.7084398976982097\n",
      "Precision_log: 0.3169336384439359\n",
      "F1_log: 0.4379446640316205\n",
      "ROC-AUC_log: 0.7180406250645744\n"
     ]
    }
   ],
   "source": [
    "model_log = LogisticRegression(random_state=12345,\n",
    "                               solver='liblinear')\n",
    "\n",
    "model_log.fit(features_downsampled, target_downsampled)\n",
    "predictions_valid_log = model_log.predict(features_valid)\n",
    "\n",
    "print(\"Recall_log:\", recall_score(target_valid, predictions_valid_log))\n",
    "print(\"Precision_log:\", precision_score(target_valid, predictions_valid_log))\n",
    "print(\"F1_log:\", f1_score(target_valid, predictions_valid_log))\n",
    "\n",
    "probabilities_valid = model_log.predict_proba(features_valid)\n",
    "probabilities_one_valid = probabilities_valid[:, 1]\n",
    "print(\"ROC-AUC_log:\", roc_auc_score(target_valid, probabilities_one_valid))"
   ]
  },
  {
   "cell_type": "markdown",
   "metadata": {},
   "source": [
    "Вывод: уменьшение выборки не помогло увеличить качество модели, попробуем использовать обратный метод."
   ]
  },
  {
   "cell_type": "markdown",
   "metadata": {},
   "source": [
    "**2. Увеличение выборки**"
   ]
  },
  {
   "cell_type": "code",
   "execution_count": 45,
   "metadata": {},
   "outputs": [
    {
     "name": "stdout",
     "output_type": "stream",
     "text": [
      "(9657, 11)\n",
      "(9657,)\n"
     ]
    }
   ],
   "source": [
    "# увеличим выборку в 4 раза, так как отрицательный класс больше положительного в 4 раза\n",
    "def upsample(features, target, repeat):\n",
    "    features_zeros = features[target == 0]\n",
    "    features_ones = features[target == 1]\n",
    "    target_zeros = target[target == 0]\n",
    "    target_ones = target[target == 1]\n",
    "    \n",
    "    # сцепляем выборки\n",
    "    features_upsampled = pd.concat([features_zeros] + [features_ones] * repeat)\n",
    "    target_upsampled = pd.concat([target_zeros] + [target_ones] * repeat)\n",
    "    \n",
    "    # перемешиваем значения, чтобы они не шли друг за другом \n",
    "    features_upsampled = shuffle(features_upsampled, random_state=12345)\n",
    "    target_upsampled = shuffle(target_upsampled, random_state=12345)\n",
    "    return features_upsampled, target_upsampled\n",
    "\n",
    "features_upsampled, target_upsampled = upsample(features_train, target_train, 4)\n",
    "\n",
    "print(features_upsampled.shape)\n",
    "print(target_upsampled.shape)"
   ]
  },
  {
   "cell_type": "markdown",
   "metadata": {},
   "source": [
    "**Дерево решений**"
   ]
  },
  {
   "cell_type": "code",
   "execution_count": 46,
   "metadata": {},
   "outputs": [
    {
     "name": "stdout",
     "output_type": "stream",
     "text": [
      "Оптимальная глубина дерева = 6\n",
      "Качество модели -  0.5060483870967742\n"
     ]
    }
   ],
   "source": [
    "# дерево решений - подберем лучшие гиперпараметры\n",
    "best_model = None\n",
    "best_f1 = 0\n",
    "for depth in range(1, 10):\n",
    "    model_tree = DecisionTreeClassifier(random_state=12345,\n",
    "                                        max_depth=depth)\n",
    "    model_tree.fit(features_upsampled, target_upsampled)\n",
    "    predictions_valid_tree = model_tree.predict(features_valid)\n",
    "    f1_tree = f1_score(target_valid, predictions_valid_tree)\n",
    "    if f1_tree > best_f1:\n",
    "        best_model = model_tree\n",
    "        best_depth = depth\n",
    "        best_f1 = f1_tree\n",
    "\n",
    "print('Оптимальная глубина дерева =', best_depth) \n",
    "print('Качество модели - ', f1_tree)"
   ]
  },
  {
   "cell_type": "code",
   "execution_count": 47,
   "metadata": {},
   "outputs": [
    {
     "name": "stdout",
     "output_type": "stream",
     "text": [
      "Recall_tree: 0.6956521739130435\n",
      "Precision_tree: 0.45714285714285713\n",
      "F1_tree: 0.5517241379310345\n",
      "ROC-AUC_tree: 0.7980111870727161\n"
     ]
    }
   ],
   "source": [
    "model_tree = DecisionTreeClassifier(random_state=12345,\n",
    "                                    max_depth=7)\n",
    "model_tree.fit(features_upsampled, target_upsampled)\n",
    "predictions_valid_tree = model_tree.predict(features_valid)\n",
    "\n",
    "print(\"Recall_tree:\", recall_score(target_valid, predictions_valid_tree))\n",
    "print(\"Precision_tree:\", precision_score(target_valid, predictions_valid_tree))\n",
    "print(\"F1_tree:\", f1_score(target_valid, predictions_valid_tree))\n",
    "\n",
    "probabilities_valid = model_tree.predict_proba(features_valid)\n",
    "probabilities_one_valid = probabilities_valid[:, 1]\n",
    "print(\"ROC-AUC_tree:\", roc_auc_score(target_valid, probabilities_one_valid))"
   ]
  },
  {
   "cell_type": "markdown",
   "metadata": {},
   "source": [
    "**Случайный лес**"
   ]
  },
  {
   "cell_type": "code",
   "execution_count": 48,
   "metadata": {},
   "outputs": [
    {
     "name": "stdout",
     "output_type": "stream",
     "text": [
      "Оптимальное количество оценок = 100\n",
      "Оптимальная глубина дерева = 9\n"
     ]
    }
   ],
   "source": [
    "# случайный лес - подберем лучшие гиперпараметры\n",
    "best_model = None\n",
    "for est in range(10, 101, 10):\n",
    "    for depth in range(1, 10):\n",
    "        model_forest = RandomForestClassifier(random_state=12345,\n",
    "                                              n_estimators=est, \n",
    "                                              max_depth=depth)\n",
    "        model_forest.fit(features_upsampled, target_upsampled)\n",
    "        predictions_valid_forest = model_forest.predict(features_valid)\n",
    "        f1_forest = f1_score(target_valid, predictions_valid_forest)\n",
    "        if f1_forest > best_f1:\n",
    "            best_model = model_forest\n",
    "            best_est = est\n",
    "            best_depth = depth\n",
    "\n",
    "print('Оптимальное количество оценок =', best_est)\n",
    "print('Оптимальная глубина дерева =', best_depth)"
   ]
  },
  {
   "cell_type": "code",
   "execution_count": 49,
   "metadata": {},
   "outputs": [
    {
     "name": "stdout",
     "output_type": "stream",
     "text": [
      "Recall_forest: 0.6649616368286445\n",
      "Precision_forest: 0.4914933837429111\n",
      "F1_forest: 0.5652173913043478\n",
      "ROC-AUC_forest: 0.8427268926864393\n"
     ]
    }
   ],
   "source": [
    "model_forest = RandomForestClassifier(random_state=12345, \n",
    "                                      n_estimators=10, \n",
    "                                      max_depth=9)\n",
    "model_forest.fit(features_upsampled, target_upsampled)\n",
    "predictions_valid_forest = model_forest.predict(features_valid)\n",
    "\n",
    "print(\"Recall_forest:\", recall_score(target_valid, predictions_valid_forest))\n",
    "print(\"Precision_forest:\", precision_score(target_valid, predictions_valid_forest))\n",
    "print(\"F1_forest:\", f1_score(target_valid, predictions_valid_forest))\n",
    "\n",
    "probabilities_valid = model_forest.predict_proba(features_valid)\n",
    "probabilities_one_valid = probabilities_valid[:, 1]\n",
    "print(\"ROC-AUC_forest:\", roc_auc_score(target_valid, probabilities_one_valid))"
   ]
  },
  {
   "cell_type": "markdown",
   "metadata": {},
   "source": [
    "**Логистическая регрессия**"
   ]
  },
  {
   "cell_type": "code",
   "execution_count": 50,
   "metadata": {},
   "outputs": [
    {
     "name": "stdout",
     "output_type": "stream",
     "text": [
      "Recall_log: 0.7007672634271099\n",
      "Precision_log: 0.3145809414466131\n",
      "F1_log: 0.43423137876386686\n",
      "ROC-AUC_log: 0.7170328665959859\n"
     ]
    }
   ],
   "source": [
    "model_log = LogisticRegression(random_state=12345,\n",
    "                               solver='liblinear')\n",
    "model_log.fit(features_upsampled, target_upsampled)\n",
    "predictions_valid_log = model_log.predict(features_valid)\n",
    "\n",
    "print(\"Recall_log:\", recall_score(target_valid, predictions_valid_log))\n",
    "print(\"Precision_log:\", precision_score(target_valid, predictions_valid_log))\n",
    "print(\"F1_log:\", f1_score(target_valid, predictions_valid_log))\n",
    "\n",
    "probabilities_valid = model_log.predict_proba(features_valid)\n",
    "probabilities_one_valid = probabilities_valid[:, 1]\n",
    "print(\"ROC-AUC_log:\", roc_auc_score(target_valid, probabilities_one_valid))"
   ]
  },
  {
   "cell_type": "code",
   "execution_count": 52,
   "metadata": {},
   "outputs": [
    {
     "data": {
      "text/html": [
       "<div>\n",
       "<style scoped>\n",
       "    .dataframe tbody tr th:only-of-type {\n",
       "        vertical-align: middle;\n",
       "    }\n",
       "\n",
       "    .dataframe tbody tr th {\n",
       "        vertical-align: top;\n",
       "    }\n",
       "\n",
       "    .dataframe thead th {\n",
       "        text-align: right;\n",
       "    }\n",
       "</style>\n",
       "<table border=\"1\" class=\"dataframe\">\n",
       "  <thead>\n",
       "    <tr style=\"text-align: right;\">\n",
       "      <th></th>\n",
       "      <th>Model Name</th>\n",
       "      <th>Initial</th>\n",
       "      <th>Downsampling</th>\n",
       "      <th>Upsampling</th>\n",
       "    </tr>\n",
       "  </thead>\n",
       "  <tbody>\n",
       "    <tr>\n",
       "      <th>0</th>\n",
       "      <td>Tree</td>\n",
       "      <td>0.55</td>\n",
       "      <td>0.55</td>\n",
       "      <td>0.55</td>\n",
       "    </tr>\n",
       "    <tr>\n",
       "      <th>1</th>\n",
       "      <td>Forest</td>\n",
       "      <td>0.55</td>\n",
       "      <td>0.56</td>\n",
       "      <td>0.57</td>\n",
       "    </tr>\n",
       "    <tr>\n",
       "      <th>2</th>\n",
       "      <td>Log</td>\n",
       "      <td>0.10</td>\n",
       "      <td>0.44</td>\n",
       "      <td>0.43</td>\n",
       "    </tr>\n",
       "  </tbody>\n",
       "</table>\n",
       "</div>"
      ],
      "text/plain": [
       "  Model Name  Initial  Downsampling  Upsampling\n",
       "0       Tree     0.55          0.55        0.55\n",
       "1     Forest     0.55          0.56        0.57\n",
       "2        Log     0.10          0.44        0.43"
      ]
     },
     "execution_count": 52,
     "metadata": {},
     "output_type": "execute_result"
    }
   ],
   "source": [
    "# для удобства соберем все полученные значения метрики F1-score в один датафрейм\n",
    "\n",
    "model_name = ['Tree', 'Forest', 'Log']\n",
    "initial_values = [0.55, 0.55, 0.10]\n",
    "down_values = [0.55, 0.56, 0.44]\n",
    "up_values = [0.55, 0.57, 0.43]\n",
    "\n",
    "df_metrics = pd.DataFrame({'Model Name': model_name,\n",
    "                           'Initial': initial_values,\n",
    "                           'Downsampling': down_values,\n",
    "                           'Upsampling': up_values })\n",
    "\n",
    "df_metrics"
   ]
  },
  {
   "cell_type": "markdown",
   "metadata": {},
   "source": [
    "**Вывод:**\n",
    "- Уменьшение и увеличение выборки позволяют достичь примерно одинаковое значение F1-score.\n",
    "- Наибольшее значение метрики F1-score получено на модели **Случайный лес** при помощи взвешивания классов. Поэтому для тестирования будем использовать эту модель.\n",
    "- Значение метрики AUC-ROC всегда стабильно выше F1-score и колеблется в районе 80%."
   ]
  }
 ],
 "metadata": {
  "ExecuteTimeLog": [
   {
    "duration": 17680,
    "start_time": "2022-10-23T17:53:25.457Z"
   },
   {
    "duration": 3601,
    "start_time": "2022-10-23T17:53:43.139Z"
   },
   {
    "duration": 4,
    "start_time": "2022-10-23T17:53:46.742Z"
   },
   {
    "duration": 144,
    "start_time": "2022-10-23T17:53:46.748Z"
   },
   {
    "duration": 15,
    "start_time": "2022-10-23T17:53:46.894Z"
   },
   {
    "duration": 11,
    "start_time": "2022-10-23T17:53:46.911Z"
   },
   {
    "duration": 32,
    "start_time": "2022-10-23T17:53:46.924Z"
   },
   {
    "duration": 6,
    "start_time": "2022-10-23T17:53:46.958Z"
   },
   {
    "duration": 14,
    "start_time": "2022-10-23T17:53:46.967Z"
   },
   {
    "duration": 486,
    "start_time": "2022-10-23T17:53:46.983Z"
   },
   {
    "duration": 458,
    "start_time": "2022-10-23T17:53:47.470Z"
   },
   {
    "duration": 7,
    "start_time": "2022-10-23T17:53:47.930Z"
   },
   {
    "duration": 4,
    "start_time": "2022-10-23T17:53:47.939Z"
   },
   {
    "duration": 9,
    "start_time": "2022-10-23T17:53:47.946Z"
   },
   {
    "duration": 4,
    "start_time": "2022-10-23T17:53:47.957Z"
   },
   {
    "duration": 4,
    "start_time": "2022-10-23T17:53:47.963Z"
   },
   {
    "duration": 5,
    "start_time": "2022-10-23T17:53:47.969Z"
   },
   {
    "duration": 49,
    "start_time": "2022-10-23T17:53:47.976Z"
   },
   {
    "duration": 5,
    "start_time": "2022-10-23T17:53:48.027Z"
   },
   {
    "duration": 5,
    "start_time": "2022-10-23T17:53:48.034Z"
   },
   {
    "duration": 49,
    "start_time": "2022-10-23T17:53:48.040Z"
   },
   {
    "duration": 9982,
    "start_time": "2022-10-23T17:53:48.091Z"
   },
   {
    "duration": 27,
    "start_time": "2022-10-23T17:53:58.075Z"
   },
   {
    "duration": 45,
    "start_time": "2022-10-23T17:53:58.103Z"
   },
   {
    "duration": 144,
    "start_time": "2022-10-23T17:53:58.149Z"
   },
   {
    "duration": 160,
    "start_time": "2022-10-23T17:53:58.295Z"
   },
   {
    "duration": 8,
    "start_time": "2022-10-23T17:53:58.457Z"
   },
   {
    "duration": 16717,
    "start_time": "2022-10-23T18:53:16.351Z"
   },
   {
    "duration": 1745,
    "start_time": "2022-10-23T18:53:33.070Z"
   },
   {
    "duration": 4,
    "start_time": "2022-10-23T18:53:34.817Z"
   },
   {
    "duration": 132,
    "start_time": "2022-10-23T18:53:34.822Z"
   },
   {
    "duration": 15,
    "start_time": "2022-10-23T18:53:34.956Z"
   },
   {
    "duration": 19,
    "start_time": "2022-10-23T18:53:34.972Z"
   },
   {
    "duration": 48,
    "start_time": "2022-10-23T18:53:34.993Z"
   },
   {
    "duration": 15,
    "start_time": "2022-10-23T18:53:35.042Z"
   },
   {
    "duration": 33,
    "start_time": "2022-10-23T18:53:35.059Z"
   },
   {
    "duration": 422,
    "start_time": "2022-10-23T18:53:35.094Z"
   },
   {
    "duration": 422,
    "start_time": "2022-10-23T18:53:35.517Z"
   },
   {
    "duration": 6,
    "start_time": "2022-10-23T18:53:35.941Z"
   },
   {
    "duration": 26,
    "start_time": "2022-10-23T18:53:35.948Z"
   },
   {
    "duration": 39,
    "start_time": "2022-10-23T18:53:35.975Z"
   },
   {
    "duration": 26,
    "start_time": "2022-10-23T18:53:36.016Z"
   },
   {
    "duration": 19,
    "start_time": "2022-10-23T18:53:36.044Z"
   },
   {
    "duration": 21,
    "start_time": "2022-10-23T18:53:36.065Z"
   },
   {
    "duration": 18,
    "start_time": "2022-10-23T18:53:36.088Z"
   },
   {
    "duration": 16,
    "start_time": "2022-10-23T18:53:36.107Z"
   },
   {
    "duration": 28,
    "start_time": "2022-10-23T18:53:36.125Z"
   },
   {
    "duration": 70,
    "start_time": "2022-10-23T18:53:36.155Z"
   },
   {
    "duration": 9722,
    "start_time": "2022-10-23T18:53:36.227Z"
   },
   {
    "duration": 28,
    "start_time": "2022-10-23T18:53:45.950Z"
   },
   {
    "duration": 28,
    "start_time": "2022-10-23T18:53:45.980Z"
   },
   {
    "duration": 158,
    "start_time": "2022-10-23T18:53:46.010Z"
   },
   {
    "duration": 201,
    "start_time": "2022-10-23T18:53:46.170Z"
   },
   {
    "duration": 10,
    "start_time": "2022-10-23T18:53:46.373Z"
   },
   {
    "duration": 29,
    "start_time": "2022-10-23T19:05:23.520Z"
   },
   {
    "duration": 30,
    "start_time": "2022-10-23T19:11:26.126Z"
   },
   {
    "duration": 9492,
    "start_time": "2022-10-23T19:12:20.852Z"
   },
   {
    "duration": 55,
    "start_time": "2022-10-23T19:15:39.799Z"
   },
   {
    "duration": 242,
    "start_time": "2022-10-23T19:16:08.840Z"
   },
   {
    "duration": 3,
    "start_time": "2022-11-21T07:56:21.505Z"
   }
  ],
  "kernelspec": {
   "display_name": "Python 3 (ipykernel)",
   "language": "python",
   "name": "python3"
  },
  "language_info": {
   "codemirror_mode": {
    "name": "ipython",
    "version": 3
   },
   "file_extension": ".py",
   "mimetype": "text/x-python",
   "name": "python",
   "nbconvert_exporter": "python",
   "pygments_lexer": "ipython3",
   "version": "3.9.13"
  },
  "toc": {
   "base_numbering": 1,
   "nav_menu": {},
   "number_sections": true,
   "sideBar": true,
   "skip_h1_title": true,
   "title_cell": "Table of Contents",
   "title_sidebar": "Contents",
   "toc_cell": false,
   "toc_position": {},
   "toc_section_display": true,
   "toc_window_display": false
  }
 },
 "nbformat": 4,
 "nbformat_minor": 2
}
